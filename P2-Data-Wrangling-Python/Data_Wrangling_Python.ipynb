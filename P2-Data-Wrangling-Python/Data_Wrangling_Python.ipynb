{
 "cells": [
  {
   "cell_type": "markdown",
   "metadata": {
    "id": "GNIwe5N7s0e_"
   },
   "source": [
    "# Real-world Data Wrangling"
   ]
  },
  {
   "cell_type": "markdown",
   "metadata": {
    "id": "_BG63Tpg8ep_"
   },
   "source": [
    "In this project, you will apply the skills you acquired in the course to gather and wrangle real-world data with two datasets of your choice.\n",
    "\n",
    "You will retrieve and extract the data, assess the data programmatically and visually, across elements of data quality and structure, and implement a cleaning strategy for the data. You will then store the updated data into your selected database/data store, combine the data, and answer a research question with the datasets.\n",
    "\n",
    "Throughout the process, you are expected to:\n",
    "\n",
    "1. Explain your decisions towards methods used for gathering, assessing, cleaning, storing, and answering the research question\n",
    "2. Write code comments so your code is more readable"
   ]
  },
  {
   "cell_type": "markdown",
   "metadata": {
    "id": "lDYDkH-Zs7Nn"
   },
   "source": [
    "## 1. Gather data\n",
    "\n",
    "In this section, you will extract data using two different data gathering methods and combine the data. Use at least two different types of data-gathering methods."
   ]
  },
  {
   "cell_type": "markdown",
   "metadata": {
    "id": "LbN7z7rcuqpO"
   },
   "source": [
    "### **1.1.** Problem Statement\n",
    "In 2-4 sentences, explain the kind of problem you want to look at and the datasets you will be wrangling for this project."
   ]
  },
  {
   "cell_type": "markdown",
   "metadata": {
    "id": "gi6swhjSYqu2"
   },
   "source": [
    "*The problem I will be looking at in this project concerns jobs in data science. Specifically, available job positions in different cities. One dataset is data science jobs in Atlanta and the other dataset is data science jobs in Boston.*"
   ]
  },
  {
   "cell_type": "markdown",
   "metadata": {
    "id": "8AQfBAdUypMm"
   },
   "source": [
    "### **1.2.** Gather at least two datasets using two different data gathering methods\n",
    "\n",
    "List of data gathering methods:\n",
    "\n",
    "- Download data manually\n",
    "- Programmatically downloading files\n",
    "- Gather data by accessing APIs\n",
    "- Gather and extract data from HTML files using BeautifulSoup\n",
    "- Extract data from a SQL database\n",
    "\n",
    "Each dataset must have at least two variables, and have greater than 500 data samples within each dataset.\n",
    "\n",
    "For each dataset, briefly describe why you picked the dataset and the gathering method (2-3 full sentences), including the names and significance of the variables in the dataset. Show your work (e.g., if using an API to download the data, please include a snippet of your code). \n",
    "\n",
    "Load the dataset programmtically into this notebook."
   ]
  },
  {
   "cell_type": "markdown",
   "metadata": {
    "id": "7e6gS0wL1KTu"
   },
   "source": [
    "#### **Dataset 1**\n",
    "\n",
    "Type: *CSV file*\n",
    "\n",
    "Method: *This data was picked because I wanted to examine data science jobs in Atlanta available scraped from Indeed by Kaggle user Shanshan Lu in 2018. The data was gathered using the \"Downloading files manually\" method from the kaggle.com site: https://www.kaggle.com/datasets/sl6149/data-scientist-job-market-in-the-us/data*. The file, **fulltimeAL.csv**, was download as a zip file, was then unzipped, the CSV file was extracted and then uploaded to this project.\n",
    "\n",
    "Dataset variables:\n",
    "\n",
    "*   *Variable 1 - position: name of job position* \n",
    "*   *Variable 2 - company: name of company for job position* \n",
    "*   *Variable 3 - description: summary that describes the job*\n",
    "*   *Variable 4 - numreview: amount of reviews for job*\n",
    "*   *Variable 5 - location: location of job position*"
   ]
  },
  {
   "cell_type": "code",
   "execution_count": 1,
   "metadata": {
    "id": "Su8E0uLuYkHU"
   },
   "outputs": [],
   "source": [
    "#FILL IN 1st data gathering and loading method\n",
    "import pandas as pd\n",
    "\n",
    "#convert csv to dataframe\n",
    "atljobs_df = pd.read_csv('original_data/fulltimeAL.csv')"
   ]
  },
  {
   "cell_type": "markdown",
   "metadata": {
    "id": "hoUjq1tPzz7P"
   },
   "source": [
    "#### Dataset 2\n",
    "\n",
    "Type: *CSV file*\n",
    "\n",
    "Method: *This data was picked because I wanted to examine data science jobs in Boston available scraped from Indeed by Kaggle user Shanshan Lu in 2018. The data was gathered using the \"Programmatically downloading files\" method from the kaggle.com site: https://www.kaggle.com/datasets/sl6149/data-scientist-job-market-in-the-us/data*. The archive ZIP file was downloaded from the site and unloaded to this project. Since the target file was **fulltimeBOS.csv**, the local ZIP archive was used to extract the target file to be used to this project.\n",
    "\n",
    "Dataset variables:\n",
    "\n",
    "*   *Variable 1 - position: name of job position* \n",
    "*   *Variable 2 - company: name of company for job position* \n",
    "*   *Variable 3 - description: summary that describes the job*\n",
    "*   *Variable 4 - numreview: amount of reviews for job*\n",
    "*   *Variable 5 - location: location of job position*"
   ]
  },
  {
   "cell_type": "code",
   "execution_count": 2,
   "metadata": {
    "id": "6zT0QxRyYmm7"
   },
   "outputs": [],
   "source": [
    "#FILL IN 2nd data gathering and loading method\n",
    "#https://favtutor.com/blogs/zipfile-python\n",
    "\n",
    "import zipfile\n",
    "\n",
    "with zipfile.ZipFile(\"original_data/archive.zip\",\"r\") as zip_ref:\n",
    "    zip_ref.extract(\"fulltimeBOS.csv\")"
   ]
  },
  {
   "cell_type": "markdown",
   "metadata": {},
   "source": [
    "Optional data storing step: You may save your raw dataset files to the local data store before moving to the next step."
   ]
  },
  {
   "cell_type": "code",
   "execution_count": 3,
   "metadata": {},
   "outputs": [],
   "source": [
    "#Optional: store the raw data in your local data store\n",
    "import shutil\n",
    "\n",
    "original_path = \"fulltimeBOS.csv\"\n",
    "destination_path = \"original_data/\"+original_path\n",
    "shutil.move(original_path, destination_path)\n",
    "bosjobs_df = pd.read_csv('original_data/fulltimeBOS.csv')"
   ]
  },
  {
   "cell_type": "markdown",
   "metadata": {
    "id": "QwSWIVmotLgV"
   },
   "source": [
    "## 2. Assess data\n",
    "\n",
    "Assess the data according to data quality and tidiness metrics using the report below.\n",
    "\n",
    "List **two** data quality issues and **two** tidiness issues. Assess each data issue visually **and** programmatically, then briefly describe the issue you find.  **Make sure you include justifications for the methods you use for the assessment.**"
   ]
  },
  {
   "cell_type": "markdown",
   "metadata": {
    "id": "adaK2iPNzVu4"
   },
   "source": [
    "### Quality Issue 1: Missing data"
   ]
  },
  {
   "cell_type": "code",
   "execution_count": 4,
   "metadata": {
    "id": "SpW59kh-zl8d",
    "scrolled": true
   },
   "outputs": [
    {
     "data": {
      "text/html": [
       "<div>\n",
       "<style scoped>\n",
       "    .dataframe tbody tr th:only-of-type {\n",
       "        vertical-align: middle;\n",
       "    }\n",
       "\n",
       "    .dataframe tbody tr th {\n",
       "        vertical-align: top;\n",
       "    }\n",
       "\n",
       "    .dataframe thead th {\n",
       "        text-align: right;\n",
       "    }\n",
       "</style>\n",
       "<table border=\"1\" class=\"dataframe\">\n",
       "  <thead>\n",
       "    <tr style=\"text-align: right;\">\n",
       "      <th></th>\n",
       "      <th>position</th>\n",
       "      <th>company</th>\n",
       "      <th>description</th>\n",
       "      <th>numreview</th>\n",
       "      <th>location</th>\n",
       "    </tr>\n",
       "  </thead>\n",
       "  <tbody>\n",
       "    <tr>\n",
       "      <th>0</th>\n",
       "      <td>Development Director</td>\n",
       "      <td>ALS TDI</td>\n",
       "      <td>&lt;span id=\"job_summary\" class=\"summary\"&gt;&lt;div&gt;&lt;d...</td>\n",
       "      <td>NaN</td>\n",
       "      <td>Atlanta, GA 30301</td>\n",
       "    </tr>\n",
       "    <tr>\n",
       "      <th>1</th>\n",
       "      <td>An Ostentatiously-Excitable Principal Research...</td>\n",
       "      <td>The Hexagon Lavish</td>\n",
       "      <td>&lt;span id=\"job_summary\" class=\"summary\"&gt;&lt;div&gt;Jo...</td>\n",
       "      <td>NaN</td>\n",
       "      <td>Atlanta, GA</td>\n",
       "    </tr>\n",
       "    <tr>\n",
       "      <th>2</th>\n",
       "      <td>Data Scientist</td>\n",
       "      <td>Xpert Staffing</td>\n",
       "      <td>&lt;span id=\"job_summary\" class=\"summary\"&gt;&lt;div&gt;&lt;d...</td>\n",
       "      <td>NaN</td>\n",
       "      <td>Atlanta, GA</td>\n",
       "    </tr>\n",
       "    <tr>\n",
       "      <th>3</th>\n",
       "      <td>Data Analyst</td>\n",
       "      <td>Operation HOPE</td>\n",
       "      <td>&lt;span id=\"job_summary\" class=\"summary\"&gt;&lt;p&gt;&lt;b&gt;D...</td>\n",
       "      <td>44 reviews</td>\n",
       "      <td>Atlanta, GA 30303</td>\n",
       "    </tr>\n",
       "    <tr>\n",
       "      <th>4</th>\n",
       "      <td>Assistant Professor -TT - Signal Processing &amp; ...</td>\n",
       "      <td>Emory University</td>\n",
       "      <td>&lt;span id=\"job_summary\" class=\"summary\"&gt;&lt;div&gt;&lt;h...</td>\n",
       "      <td>550 reviews</td>\n",
       "      <td>Atlanta, GA</td>\n",
       "    </tr>\n",
       "    <tr>\n",
       "      <th>...</th>\n",
       "      <td>...</td>\n",
       "      <td>...</td>\n",
       "      <td>...</td>\n",
       "      <td>...</td>\n",
       "      <td>...</td>\n",
       "    </tr>\n",
       "    <tr>\n",
       "      <th>264</th>\n",
       "      <td>Systems Software Engineer</td>\n",
       "      <td>Emory University</td>\n",
       "      <td>&lt;span id=\"job_summary\" class=\"summary\"&gt;&lt;div&gt;&lt;h...</td>\n",
       "      <td>550 reviews</td>\n",
       "      <td>Atlanta, GA</td>\n",
       "    </tr>\n",
       "    <tr>\n",
       "      <th>265</th>\n",
       "      <td>Digital Marketing Consultant - Automotive Reta...</td>\n",
       "      <td>CDK Global</td>\n",
       "      <td>&lt;span id=\"job_summary\" class=\"summary\"&gt;&lt;div&gt;&lt;p...</td>\n",
       "      <td>230 reviews</td>\n",
       "      <td>Atlanta, GA 30301</td>\n",
       "    </tr>\n",
       "    <tr>\n",
       "      <th>266</th>\n",
       "      <td>Senior Packaging Engineer I - PET</td>\n",
       "      <td>The Coca-Cola Company</td>\n",
       "      <td>&lt;span id=\"job_summary\" class=\"summary\"&gt;&lt;b&gt;Job ...</td>\n",
       "      <td>7,236 reviews</td>\n",
       "      <td>Atlanta, GA 30301</td>\n",
       "    </tr>\n",
       "    <tr>\n",
       "      <th>267</th>\n",
       "      <td>Account Executive Fraud Solutions, Acquiring E...</td>\n",
       "      <td>Payments &amp; Cards Network</td>\n",
       "      <td>&lt;span id=\"job_summary\" class=\"summary\"&gt;&lt;div&gt;&lt;h...</td>\n",
       "      <td>NaN</td>\n",
       "      <td>Atlanta, GA</td>\n",
       "    </tr>\n",
       "    <tr>\n",
       "      <th>268</th>\n",
       "      <td>Junior DevOps Software Engineer – Secureworks ...</td>\n",
       "      <td>DELL</td>\n",
       "      <td>&lt;span id=\"job_summary\" class=\"summary\"&gt;&lt;div&gt;&lt;p...</td>\n",
       "      <td>8,380 reviews</td>\n",
       "      <td>Atlanta, GA</td>\n",
       "    </tr>\n",
       "  </tbody>\n",
       "</table>\n",
       "<p>269 rows × 5 columns</p>\n",
       "</div>"
      ],
      "text/plain": [
       "                                              position  \\\n",
       "0                                 Development Director   \n",
       "1    An Ostentatiously-Excitable Principal Research...   \n",
       "2                                       Data Scientist   \n",
       "3                                         Data Analyst   \n",
       "4    Assistant Professor -TT - Signal Processing & ...   \n",
       "..                                                 ...   \n",
       "264                          Systems Software Engineer   \n",
       "265  Digital Marketing Consultant - Automotive Reta...   \n",
       "266                  Senior Packaging Engineer I - PET   \n",
       "267  Account Executive Fraud Solutions, Acquiring E...   \n",
       "268  Junior DevOps Software Engineer – Secureworks ...   \n",
       "\n",
       "                      company  \\\n",
       "0                     ALS TDI   \n",
       "1          The Hexagon Lavish   \n",
       "2              Xpert Staffing   \n",
       "3              Operation HOPE   \n",
       "4            Emory University   \n",
       "..                        ...   \n",
       "264          Emory University   \n",
       "265                CDK Global   \n",
       "266     The Coca-Cola Company   \n",
       "267  Payments & Cards Network   \n",
       "268                      DELL   \n",
       "\n",
       "                                           description      numreview  \\\n",
       "0    <span id=\"job_summary\" class=\"summary\"><div><d...            NaN   \n",
       "1    <span id=\"job_summary\" class=\"summary\"><div>Jo...            NaN   \n",
       "2    <span id=\"job_summary\" class=\"summary\"><div><d...            NaN   \n",
       "3    <span id=\"job_summary\" class=\"summary\"><p><b>D...     44 reviews   \n",
       "4    <span id=\"job_summary\" class=\"summary\"><div><h...    550 reviews   \n",
       "..                                                 ...            ...   \n",
       "264  <span id=\"job_summary\" class=\"summary\"><div><h...    550 reviews   \n",
       "265  <span id=\"job_summary\" class=\"summary\"><div><p...    230 reviews   \n",
       "266  <span id=\"job_summary\" class=\"summary\"><b>Job ...  7,236 reviews   \n",
       "267  <span id=\"job_summary\" class=\"summary\"><div><h...            NaN   \n",
       "268  <span id=\"job_summary\" class=\"summary\"><div><p...  8,380 reviews   \n",
       "\n",
       "               location  \n",
       "0    Atlanta, GA 30301   \n",
       "1           Atlanta, GA  \n",
       "2           Atlanta, GA  \n",
       "3    Atlanta, GA 30303   \n",
       "4           Atlanta, GA  \n",
       "..                  ...  \n",
       "264         Atlanta, GA  \n",
       "265  Atlanta, GA 30301   \n",
       "266  Atlanta, GA 30301   \n",
       "267         Atlanta, GA  \n",
       "268         Atlanta, GA  \n",
       "\n",
       "[269 rows x 5 columns]"
      ]
     },
     "execution_count": 4,
     "metadata": {},
     "output_type": "execute_result"
    }
   ],
   "source": [
    "#Name of column Value - Inspecting the dataframe visually\n",
    "atljobs_df"
   ]
  },
  {
   "cell_type": "code",
   "execution_count": 5,
   "metadata": {
    "id": "-qfcocStzsKg"
   },
   "outputs": [
    {
     "name": "stdout",
     "output_type": "stream",
     "text": [
      "position        0\n",
      "company         0\n",
      "description     0\n",
      "numreview      42\n",
      "location        0\n",
      "dtype: int64\n"
     ]
    }
   ],
   "source": [
    "#FILL IN - Inspecting the dataframe programmatically\n",
    "print(atljobs_df.isna().sum())"
   ]
  },
  {
   "cell_type": "markdown",
   "metadata": {},
   "source": [
    "Issue and justification: *The issue with this data set is Missing data. There are some rows with missing values or null values present in the data.*"
   ]
  },
  {
   "cell_type": "markdown",
   "metadata": {
    "id": "8Be77N4I1AmE"
   },
   "source": [
    "### Quality Issue 2: Validity"
   ]
  },
  {
   "cell_type": "code",
   "execution_count": 6,
   "metadata": {
    "id": "iMhHyiyLM2I3"
   },
   "outputs": [
    {
     "data": {
      "text/html": [
       "<div>\n",
       "<style scoped>\n",
       "    .dataframe tbody tr th:only-of-type {\n",
       "        vertical-align: middle;\n",
       "    }\n",
       "\n",
       "    .dataframe tbody tr th {\n",
       "        vertical-align: top;\n",
       "    }\n",
       "\n",
       "    .dataframe thead th {\n",
       "        text-align: right;\n",
       "    }\n",
       "</style>\n",
       "<table border=\"1\" class=\"dataframe\">\n",
       "  <thead>\n",
       "    <tr style=\"text-align: right;\">\n",
       "      <th></th>\n",
       "      <th>position</th>\n",
       "      <th>company</th>\n",
       "      <th>description</th>\n",
       "      <th>numreview</th>\n",
       "      <th>location</th>\n",
       "    </tr>\n",
       "  </thead>\n",
       "  <tbody>\n",
       "    <tr>\n",
       "      <th>0</th>\n",
       "      <td>Development Director</td>\n",
       "      <td>ALS TDI</td>\n",
       "      <td>&lt;span id=\"job_summary\" class=\"summary\"&gt;&lt;div&gt;&lt;d...</td>\n",
       "      <td>NaN</td>\n",
       "      <td>Atlanta, GA 30301</td>\n",
       "    </tr>\n",
       "    <tr>\n",
       "      <th>1</th>\n",
       "      <td>An Ostentatiously-Excitable Principal Research...</td>\n",
       "      <td>The Hexagon Lavish</td>\n",
       "      <td>&lt;span id=\"job_summary\" class=\"summary\"&gt;&lt;div&gt;Jo...</td>\n",
       "      <td>NaN</td>\n",
       "      <td>Atlanta, GA</td>\n",
       "    </tr>\n",
       "    <tr>\n",
       "      <th>2</th>\n",
       "      <td>Data Scientist</td>\n",
       "      <td>Xpert Staffing</td>\n",
       "      <td>&lt;span id=\"job_summary\" class=\"summary\"&gt;&lt;div&gt;&lt;d...</td>\n",
       "      <td>NaN</td>\n",
       "      <td>Atlanta, GA</td>\n",
       "    </tr>\n",
       "    <tr>\n",
       "      <th>3</th>\n",
       "      <td>Data Analyst</td>\n",
       "      <td>Operation HOPE</td>\n",
       "      <td>&lt;span id=\"job_summary\" class=\"summary\"&gt;&lt;p&gt;&lt;b&gt;D...</td>\n",
       "      <td>44 reviews</td>\n",
       "      <td>Atlanta, GA 30303</td>\n",
       "    </tr>\n",
       "    <tr>\n",
       "      <th>4</th>\n",
       "      <td>Assistant Professor -TT - Signal Processing &amp; ...</td>\n",
       "      <td>Emory University</td>\n",
       "      <td>&lt;span id=\"job_summary\" class=\"summary\"&gt;&lt;div&gt;&lt;h...</td>\n",
       "      <td>550 reviews</td>\n",
       "      <td>Atlanta, GA</td>\n",
       "    </tr>\n",
       "    <tr>\n",
       "      <th>...</th>\n",
       "      <td>...</td>\n",
       "      <td>...</td>\n",
       "      <td>...</td>\n",
       "      <td>...</td>\n",
       "      <td>...</td>\n",
       "    </tr>\n",
       "    <tr>\n",
       "      <th>264</th>\n",
       "      <td>Systems Software Engineer</td>\n",
       "      <td>Emory University</td>\n",
       "      <td>&lt;span id=\"job_summary\" class=\"summary\"&gt;&lt;div&gt;&lt;h...</td>\n",
       "      <td>550 reviews</td>\n",
       "      <td>Atlanta, GA</td>\n",
       "    </tr>\n",
       "    <tr>\n",
       "      <th>265</th>\n",
       "      <td>Digital Marketing Consultant - Automotive Reta...</td>\n",
       "      <td>CDK Global</td>\n",
       "      <td>&lt;span id=\"job_summary\" class=\"summary\"&gt;&lt;div&gt;&lt;p...</td>\n",
       "      <td>230 reviews</td>\n",
       "      <td>Atlanta, GA 30301</td>\n",
       "    </tr>\n",
       "    <tr>\n",
       "      <th>266</th>\n",
       "      <td>Senior Packaging Engineer I - PET</td>\n",
       "      <td>The Coca-Cola Company</td>\n",
       "      <td>&lt;span id=\"job_summary\" class=\"summary\"&gt;&lt;b&gt;Job ...</td>\n",
       "      <td>7,236 reviews</td>\n",
       "      <td>Atlanta, GA 30301</td>\n",
       "    </tr>\n",
       "    <tr>\n",
       "      <th>267</th>\n",
       "      <td>Account Executive Fraud Solutions, Acquiring E...</td>\n",
       "      <td>Payments &amp; Cards Network</td>\n",
       "      <td>&lt;span id=\"job_summary\" class=\"summary\"&gt;&lt;div&gt;&lt;h...</td>\n",
       "      <td>NaN</td>\n",
       "      <td>Atlanta, GA</td>\n",
       "    </tr>\n",
       "    <tr>\n",
       "      <th>268</th>\n",
       "      <td>Junior DevOps Software Engineer – Secureworks ...</td>\n",
       "      <td>DELL</td>\n",
       "      <td>&lt;span id=\"job_summary\" class=\"summary\"&gt;&lt;div&gt;&lt;p...</td>\n",
       "      <td>8,380 reviews</td>\n",
       "      <td>Atlanta, GA</td>\n",
       "    </tr>\n",
       "  </tbody>\n",
       "</table>\n",
       "<p>269 rows × 5 columns</p>\n",
       "</div>"
      ],
      "text/plain": [
       "                                              position  \\\n",
       "0                                 Development Director   \n",
       "1    An Ostentatiously-Excitable Principal Research...   \n",
       "2                                       Data Scientist   \n",
       "3                                         Data Analyst   \n",
       "4    Assistant Professor -TT - Signal Processing & ...   \n",
       "..                                                 ...   \n",
       "264                          Systems Software Engineer   \n",
       "265  Digital Marketing Consultant - Automotive Reta...   \n",
       "266                  Senior Packaging Engineer I - PET   \n",
       "267  Account Executive Fraud Solutions, Acquiring E...   \n",
       "268  Junior DevOps Software Engineer – Secureworks ...   \n",
       "\n",
       "                      company  \\\n",
       "0                     ALS TDI   \n",
       "1          The Hexagon Lavish   \n",
       "2              Xpert Staffing   \n",
       "3              Operation HOPE   \n",
       "4            Emory University   \n",
       "..                        ...   \n",
       "264          Emory University   \n",
       "265                CDK Global   \n",
       "266     The Coca-Cola Company   \n",
       "267  Payments & Cards Network   \n",
       "268                      DELL   \n",
       "\n",
       "                                           description      numreview  \\\n",
       "0    <span id=\"job_summary\" class=\"summary\"><div><d...            NaN   \n",
       "1    <span id=\"job_summary\" class=\"summary\"><div>Jo...            NaN   \n",
       "2    <span id=\"job_summary\" class=\"summary\"><div><d...            NaN   \n",
       "3    <span id=\"job_summary\" class=\"summary\"><p><b>D...     44 reviews   \n",
       "4    <span id=\"job_summary\" class=\"summary\"><div><h...    550 reviews   \n",
       "..                                                 ...            ...   \n",
       "264  <span id=\"job_summary\" class=\"summary\"><div><h...    550 reviews   \n",
       "265  <span id=\"job_summary\" class=\"summary\"><div><p...    230 reviews   \n",
       "266  <span id=\"job_summary\" class=\"summary\"><b>Job ...  7,236 reviews   \n",
       "267  <span id=\"job_summary\" class=\"summary\"><div><h...            NaN   \n",
       "268  <span id=\"job_summary\" class=\"summary\"><div><p...  8,380 reviews   \n",
       "\n",
       "               location  \n",
       "0    Atlanta, GA 30301   \n",
       "1           Atlanta, GA  \n",
       "2           Atlanta, GA  \n",
       "3    Atlanta, GA 30303   \n",
       "4           Atlanta, GA  \n",
       "..                  ...  \n",
       "264         Atlanta, GA  \n",
       "265  Atlanta, GA 30301   \n",
       "266  Atlanta, GA 30301   \n",
       "267         Atlanta, GA  \n",
       "268         Atlanta, GA  \n",
       "\n",
       "[269 rows x 5 columns]"
      ]
     },
     "execution_count": 6,
     "metadata": {},
     "output_type": "execute_result"
    }
   ],
   "source": [
    "#FILL IN - Inspecting the dataframe visually\n",
    "atljobs_df"
   ]
  },
  {
   "cell_type": "code",
   "execution_count": 7,
   "metadata": {
    "id": "bnviRCUI-bb7"
   },
   "outputs": [
    {
     "data": {
      "text/plain": [
       "position       object\n",
       "company        object\n",
       "description    object\n",
       "numreview      object\n",
       "location       object\n",
       "dtype: object"
      ]
     },
     "execution_count": 7,
     "metadata": {},
     "output_type": "execute_result"
    }
   ],
   "source": [
    "#FILL IN - Inspecting the dataframe programmatically\n",
    "atljobs_df.dtypes"
   ]
  },
  {
   "cell_type": "markdown",
   "metadata": {},
   "source": [
    "Issue and justification: *The issue with this data set is Validity. Specifically, the numreview column is about the number of reviews for a job position. This should be a numerical data type, not an object.*"
   ]
  },
  {
   "cell_type": "markdown",
   "metadata": {
    "id": "lXhGiYyiwwKN"
   },
   "source": [
    "### Tidiness Issue 1: Columns containing multiple variables"
   ]
  },
  {
   "cell_type": "code",
   "execution_count": 8,
   "metadata": {
    "id": "fleC5rORI0Xl"
   },
   "outputs": [
    {
     "data": {
      "text/html": [
       "<div>\n",
       "<style scoped>\n",
       "    .dataframe tbody tr th:only-of-type {\n",
       "        vertical-align: middle;\n",
       "    }\n",
       "\n",
       "    .dataframe tbody tr th {\n",
       "        vertical-align: top;\n",
       "    }\n",
       "\n",
       "    .dataframe thead th {\n",
       "        text-align: right;\n",
       "    }\n",
       "</style>\n",
       "<table border=\"1\" class=\"dataframe\">\n",
       "  <thead>\n",
       "    <tr style=\"text-align: right;\">\n",
       "      <th></th>\n",
       "      <th>position</th>\n",
       "      <th>company</th>\n",
       "      <th>description</th>\n",
       "      <th>numreview</th>\n",
       "      <th>location</th>\n",
       "    </tr>\n",
       "  </thead>\n",
       "  <tbody>\n",
       "    <tr>\n",
       "      <th>0</th>\n",
       "      <td>Robotics and Automation – Research Analyst</td>\n",
       "      <td>Lux Research Inc</td>\n",
       "      <td>&lt;span id=\"job_summary\" class=\"summary\"&gt;&lt;div&gt;&lt;p...</td>\n",
       "      <td>NaN</td>\n",
       "      <td>Boston, MA</td>\n",
       "    </tr>\n",
       "    <tr>\n",
       "      <th>1</th>\n",
       "      <td>Senior Account Executive</td>\n",
       "      <td>h2o.ai</td>\n",
       "      <td>&lt;span id=\"job_summary\" class=\"summary\"&gt;&lt;div&gt;&lt;p...</td>\n",
       "      <td>NaN</td>\n",
       "      <td>Boston, MA</td>\n",
       "    </tr>\n",
       "    <tr>\n",
       "      <th>2</th>\n",
       "      <td>Marketing Information Analytics Coordinator</td>\n",
       "      <td>VHB</td>\n",
       "      <td>&lt;span id=\"job_summary\" class=\"summary\"&gt;&lt;div&gt;&lt;p...</td>\n",
       "      <td>22 reviews</td>\n",
       "      <td>Boston, MA 02110</td>\n",
       "    </tr>\n",
       "    <tr>\n",
       "      <th>3</th>\n",
       "      <td>ERP Implementation Specialist</td>\n",
       "      <td>Lovepop</td>\n",
       "      <td>&lt;span id=\"job_summary\" class=\"summary\"&gt;&lt;div&gt;&lt;d...</td>\n",
       "      <td>2 reviews</td>\n",
       "      <td>Boston, MA</td>\n",
       "    </tr>\n",
       "    <tr>\n",
       "      <th>4</th>\n",
       "      <td>Field Application Scientist - Boston</td>\n",
       "      <td>10x Genomics</td>\n",
       "      <td>&lt;span id=\"job_summary\" class=\"summary\"&gt;&lt;b&gt;Regi...</td>\n",
       "      <td>NaN</td>\n",
       "      <td>Boston, MA</td>\n",
       "    </tr>\n",
       "    <tr>\n",
       "      <th>...</th>\n",
       "      <td>...</td>\n",
       "      <td>...</td>\n",
       "      <td>...</td>\n",
       "      <td>...</td>\n",
       "      <td>...</td>\n",
       "    </tr>\n",
       "    <tr>\n",
       "      <th>624</th>\n",
       "      <td>Data Scientist</td>\n",
       "      <td>Recorded Future</td>\n",
       "      <td>&lt;span id=\"job_summary\" class=\"summary\"&gt;Want to...</td>\n",
       "      <td>NaN</td>\n",
       "      <td>Boston, MA</td>\n",
       "    </tr>\n",
       "    <tr>\n",
       "      <th>625</th>\n",
       "      <td>User Research Data Analyst Intern for Mental H...</td>\n",
       "      <td>Affect Mental Health</td>\n",
       "      <td>&lt;span id=\"job_summary\" class=\"summary\"&gt;&lt;div&gt;&lt;d...</td>\n",
       "      <td>NaN</td>\n",
       "      <td>Boston, MA</td>\n",
       "    </tr>\n",
       "    <tr>\n",
       "      <th>626</th>\n",
       "      <td>Atmospheric Data Scientist / Meteorologist</td>\n",
       "      <td>ClimaCell</td>\n",
       "      <td>&lt;span id=\"job_summary\" class=\"summary\"&gt;ClimaCe...</td>\n",
       "      <td>NaN</td>\n",
       "      <td>Boston, MA 02111</td>\n",
       "    </tr>\n",
       "    <tr>\n",
       "      <th>627</th>\n",
       "      <td>Sr. Data Scientist</td>\n",
       "      <td>Pluralsight</td>\n",
       "      <td>&lt;span id=\"job_summary\" class=\"summary\"&gt;&lt;div&gt;Jo...</td>\n",
       "      <td>8 reviews</td>\n",
       "      <td>Boston, MA</td>\n",
       "    </tr>\n",
       "    <tr>\n",
       "      <th>628</th>\n",
       "      <td>Data Scientist, Infrastructure</td>\n",
       "      <td>Facebook</td>\n",
       "      <td>&lt;span id=\"job_summary\" class=\"summary\"&gt;&lt;div&gt;&lt;d...</td>\n",
       "      <td>366 reviews</td>\n",
       "      <td>Boston, MA</td>\n",
       "    </tr>\n",
       "  </tbody>\n",
       "</table>\n",
       "<p>629 rows × 5 columns</p>\n",
       "</div>"
      ],
      "text/plain": [
       "                                              position               company  \\\n",
       "0           Robotics and Automation – Research Analyst      Lux Research Inc   \n",
       "1                             Senior Account Executive                h2o.ai   \n",
       "2          Marketing Information Analytics Coordinator                   VHB   \n",
       "3                        ERP Implementation Specialist               Lovepop   \n",
       "4                 Field Application Scientist - Boston          10x Genomics   \n",
       "..                                                 ...                   ...   \n",
       "624                                     Data Scientist       Recorded Future   \n",
       "625  User Research Data Analyst Intern for Mental H...  Affect Mental Health   \n",
       "626         Atmospheric Data Scientist / Meteorologist             ClimaCell   \n",
       "627                                 Sr. Data Scientist           Pluralsight   \n",
       "628                     Data Scientist, Infrastructure              Facebook   \n",
       "\n",
       "                                           description    numreview  \\\n",
       "0    <span id=\"job_summary\" class=\"summary\"><div><p...          NaN   \n",
       "1    <span id=\"job_summary\" class=\"summary\"><div><p...          NaN   \n",
       "2    <span id=\"job_summary\" class=\"summary\"><div><p...   22 reviews   \n",
       "3    <span id=\"job_summary\" class=\"summary\"><div><d...    2 reviews   \n",
       "4    <span id=\"job_summary\" class=\"summary\"><b>Regi...          NaN   \n",
       "..                                                 ...          ...   \n",
       "624  <span id=\"job_summary\" class=\"summary\">Want to...          NaN   \n",
       "625  <span id=\"job_summary\" class=\"summary\"><div><d...          NaN   \n",
       "626  <span id=\"job_summary\" class=\"summary\">ClimaCe...          NaN   \n",
       "627  <span id=\"job_summary\" class=\"summary\"><div>Jo...    8 reviews   \n",
       "628  <span id=\"job_summary\" class=\"summary\"><div><d...  366 reviews   \n",
       "\n",
       "             location  \n",
       "0          Boston, MA  \n",
       "1          Boston, MA  \n",
       "2    Boston, MA 02110  \n",
       "3          Boston, MA  \n",
       "4          Boston, MA  \n",
       "..                ...  \n",
       "624        Boston, MA  \n",
       "625        Boston, MA  \n",
       "626  Boston, MA 02111  \n",
       "627        Boston, MA  \n",
       "628        Boston, MA  \n",
       "\n",
       "[629 rows x 5 columns]"
      ]
     },
     "execution_count": 8,
     "metadata": {},
     "output_type": "execute_result"
    }
   ],
   "source": [
    "#FILL IN - Inspecting the dataframe visually\n",
    "bosjobs_df"
   ]
  },
  {
   "cell_type": "code",
   "execution_count": 9,
   "metadata": {},
   "outputs": [
    {
     "data": {
      "text/plain": [
       "array(['Boston, MA', 'Boston, MA 02110', 'Boston, MA 02129',\n",
       "       'Boston, MA 02116', 'Boston, MA 02111', 'Boston, MA 02298',\n",
       "       'Boston, MA 02109', 'Boston, MA 02210', 'Boston, MA 02212',\n",
       "       'Boston, MA 02215', 'Boston, MA 02114', 'Boston, MA 02199',\n",
       "       'Boston, MA 02134', 'Boston, MA 02108', 'Boston, MA 02201',\n",
       "       'Boston, MA 02115', 'Boston, MA 02118'], dtype=object)"
      ]
     },
     "execution_count": 9,
     "metadata": {},
     "output_type": "execute_result"
    }
   ],
   "source": [
    "#FILL IN - Inspecting the dataframe programmatically\n",
    "bosjobs_df['location'].unique()"
   ]
  },
  {
   "cell_type": "markdown",
   "metadata": {},
   "source": [
    "Issue and justification: *The issue with this data set is Columns contain multiple variables. Specifically, the location column containing the job's city, state and and zip cope.*"
   ]
  },
  {
   "cell_type": "markdown",
   "metadata": {
    "id": "4ffMoRGSwzYj"
   },
   "source": [
    "### Tidiness Issue 2: Untidy data structure"
   ]
  },
  {
   "cell_type": "code",
   "execution_count": 10,
   "metadata": {
    "id": "XUpeoqokw5Qt"
   },
   "outputs": [
    {
     "data": {
      "text/html": [
       "<div>\n",
       "<style scoped>\n",
       "    .dataframe tbody tr th:only-of-type {\n",
       "        vertical-align: middle;\n",
       "    }\n",
       "\n",
       "    .dataframe tbody tr th {\n",
       "        vertical-align: top;\n",
       "    }\n",
       "\n",
       "    .dataframe thead th {\n",
       "        text-align: right;\n",
       "    }\n",
       "</style>\n",
       "<table border=\"1\" class=\"dataframe\">\n",
       "  <thead>\n",
       "    <tr style=\"text-align: right;\">\n",
       "      <th></th>\n",
       "      <th>position</th>\n",
       "      <th>company</th>\n",
       "      <th>description</th>\n",
       "      <th>numreview</th>\n",
       "      <th>location</th>\n",
       "    </tr>\n",
       "  </thead>\n",
       "  <tbody>\n",
       "    <tr>\n",
       "      <th>0</th>\n",
       "      <td>Robotics and Automation – Research Analyst</td>\n",
       "      <td>Lux Research Inc</td>\n",
       "      <td>&lt;span id=\"job_summary\" class=\"summary\"&gt;&lt;div&gt;&lt;p...</td>\n",
       "      <td>NaN</td>\n",
       "      <td>Boston, MA</td>\n",
       "    </tr>\n",
       "    <tr>\n",
       "      <th>1</th>\n",
       "      <td>Senior Account Executive</td>\n",
       "      <td>h2o.ai</td>\n",
       "      <td>&lt;span id=\"job_summary\" class=\"summary\"&gt;&lt;div&gt;&lt;p...</td>\n",
       "      <td>NaN</td>\n",
       "      <td>Boston, MA</td>\n",
       "    </tr>\n",
       "    <tr>\n",
       "      <th>2</th>\n",
       "      <td>Marketing Information Analytics Coordinator</td>\n",
       "      <td>VHB</td>\n",
       "      <td>&lt;span id=\"job_summary\" class=\"summary\"&gt;&lt;div&gt;&lt;p...</td>\n",
       "      <td>22 reviews</td>\n",
       "      <td>Boston, MA 02110</td>\n",
       "    </tr>\n",
       "    <tr>\n",
       "      <th>3</th>\n",
       "      <td>ERP Implementation Specialist</td>\n",
       "      <td>Lovepop</td>\n",
       "      <td>&lt;span id=\"job_summary\" class=\"summary\"&gt;&lt;div&gt;&lt;d...</td>\n",
       "      <td>2 reviews</td>\n",
       "      <td>Boston, MA</td>\n",
       "    </tr>\n",
       "    <tr>\n",
       "      <th>4</th>\n",
       "      <td>Field Application Scientist - Boston</td>\n",
       "      <td>10x Genomics</td>\n",
       "      <td>&lt;span id=\"job_summary\" class=\"summary\"&gt;&lt;b&gt;Regi...</td>\n",
       "      <td>NaN</td>\n",
       "      <td>Boston, MA</td>\n",
       "    </tr>\n",
       "    <tr>\n",
       "      <th>...</th>\n",
       "      <td>...</td>\n",
       "      <td>...</td>\n",
       "      <td>...</td>\n",
       "      <td>...</td>\n",
       "      <td>...</td>\n",
       "    </tr>\n",
       "    <tr>\n",
       "      <th>624</th>\n",
       "      <td>Data Scientist</td>\n",
       "      <td>Recorded Future</td>\n",
       "      <td>&lt;span id=\"job_summary\" class=\"summary\"&gt;Want to...</td>\n",
       "      <td>NaN</td>\n",
       "      <td>Boston, MA</td>\n",
       "    </tr>\n",
       "    <tr>\n",
       "      <th>625</th>\n",
       "      <td>User Research Data Analyst Intern for Mental H...</td>\n",
       "      <td>Affect Mental Health</td>\n",
       "      <td>&lt;span id=\"job_summary\" class=\"summary\"&gt;&lt;div&gt;&lt;d...</td>\n",
       "      <td>NaN</td>\n",
       "      <td>Boston, MA</td>\n",
       "    </tr>\n",
       "    <tr>\n",
       "      <th>626</th>\n",
       "      <td>Atmospheric Data Scientist / Meteorologist</td>\n",
       "      <td>ClimaCell</td>\n",
       "      <td>&lt;span id=\"job_summary\" class=\"summary\"&gt;ClimaCe...</td>\n",
       "      <td>NaN</td>\n",
       "      <td>Boston, MA 02111</td>\n",
       "    </tr>\n",
       "    <tr>\n",
       "      <th>627</th>\n",
       "      <td>Sr. Data Scientist</td>\n",
       "      <td>Pluralsight</td>\n",
       "      <td>&lt;span id=\"job_summary\" class=\"summary\"&gt;&lt;div&gt;Jo...</td>\n",
       "      <td>8 reviews</td>\n",
       "      <td>Boston, MA</td>\n",
       "    </tr>\n",
       "    <tr>\n",
       "      <th>628</th>\n",
       "      <td>Data Scientist, Infrastructure</td>\n",
       "      <td>Facebook</td>\n",
       "      <td>&lt;span id=\"job_summary\" class=\"summary\"&gt;&lt;div&gt;&lt;d...</td>\n",
       "      <td>366 reviews</td>\n",
       "      <td>Boston, MA</td>\n",
       "    </tr>\n",
       "  </tbody>\n",
       "</table>\n",
       "<p>629 rows × 5 columns</p>\n",
       "</div>"
      ],
      "text/plain": [
       "                                              position               company  \\\n",
       "0           Robotics and Automation – Research Analyst      Lux Research Inc   \n",
       "1                             Senior Account Executive                h2o.ai   \n",
       "2          Marketing Information Analytics Coordinator                   VHB   \n",
       "3                        ERP Implementation Specialist               Lovepop   \n",
       "4                 Field Application Scientist - Boston          10x Genomics   \n",
       "..                                                 ...                   ...   \n",
       "624                                     Data Scientist       Recorded Future   \n",
       "625  User Research Data Analyst Intern for Mental H...  Affect Mental Health   \n",
       "626         Atmospheric Data Scientist / Meteorologist             ClimaCell   \n",
       "627                                 Sr. Data Scientist           Pluralsight   \n",
       "628                     Data Scientist, Infrastructure              Facebook   \n",
       "\n",
       "                                           description    numreview  \\\n",
       "0    <span id=\"job_summary\" class=\"summary\"><div><p...          NaN   \n",
       "1    <span id=\"job_summary\" class=\"summary\"><div><p...          NaN   \n",
       "2    <span id=\"job_summary\" class=\"summary\"><div><p...   22 reviews   \n",
       "3    <span id=\"job_summary\" class=\"summary\"><div><d...    2 reviews   \n",
       "4    <span id=\"job_summary\" class=\"summary\"><b>Regi...          NaN   \n",
       "..                                                 ...          ...   \n",
       "624  <span id=\"job_summary\" class=\"summary\">Want to...          NaN   \n",
       "625  <span id=\"job_summary\" class=\"summary\"><div><d...          NaN   \n",
       "626  <span id=\"job_summary\" class=\"summary\">ClimaCe...          NaN   \n",
       "627  <span id=\"job_summary\" class=\"summary\"><div>Jo...    8 reviews   \n",
       "628  <span id=\"job_summary\" class=\"summary\"><div><d...  366 reviews   \n",
       "\n",
       "             location  \n",
       "0          Boston, MA  \n",
       "1          Boston, MA  \n",
       "2    Boston, MA 02110  \n",
       "3          Boston, MA  \n",
       "4          Boston, MA  \n",
       "..                ...  \n",
       "624        Boston, MA  \n",
       "625        Boston, MA  \n",
       "626  Boston, MA 02111  \n",
       "627        Boston, MA  \n",
       "628        Boston, MA  \n",
       "\n",
       "[629 rows x 5 columns]"
      ]
     },
     "execution_count": 10,
     "metadata": {},
     "output_type": "execute_result"
    }
   ],
   "source": [
    "#FILL IN - Inspecting the dataframe visually\n",
    "bosjobs_df"
   ]
  },
  {
   "cell_type": "code",
   "execution_count": 11,
   "metadata": {},
   "outputs": [
    {
     "data": {
      "text/plain": [
       "'<span id=\"job_summary\" class=\"summary\"><div><p><b>Robotics and Automation – Research Analyst (Boston)</b></p>\\n<p>Lux Research is looking for candidates with strong technical capability in robotics and automation, who are looking to use that knowledge to assess the commercial viability and roadmap for emerging technologies.</p>\\n<p>Lux Research provides a unique environment to bolster technical knowledge with business skills, by serving clients interested in monetizing emerging technologies. Clients include multi-national electronics, materials, and industrial companies in addition to investor and government groups.</p>\\n<p>Qualified candidates will have background in either components (e.g. sensors, machine vision systems, machine learning), and/or automated systems (e.g. robots, autonomous vehicles, drones).</p>\\n<p>This position does not involve lab-work; rather it involves building on technical expertise through additional primary and secondary research to identify the best opportunities and biggest risks for clients.</p>\\n<p>Analysts spend their time speaking with innovative technology developers and clients, attending and speaking at conferences, and analyzing their findings to help clients make informed decisions. Analysts will develop expertise across the value chain, including hardware, software, and end markets.</p>\\n<p><b>Responsibilities:</b></p>\\n<ul><li>Work with a geographically diverse team to develop and test research hypotheses and prepare findings for clients.</li>\\n<li>Conduct primary interviews with senior-level executives at large corporations, technology start-ups, and other organizations.</li>\\n<li>Conduct secondary research drawing on diverse sources, including business and trade press, academic publications, patent filings, and conference presentations.</li>\\n<li>Produce written research reports, including creative visual depictions of data and ideas.</li>\\n<li>Perform analyses ranging from technical due diligence to market forecasting and cost modeling</li>\\n<li>Understand client business needs to develop and deliver high-value research.</li>\\n<li>Develop a network of contacts and relationships among business and scientific leaders in emerging technologies.</li>\\n</ul><p><b>Requirements:</b></p>\\n<ul><li>2-4 years work or postgraduate experience with a background or experience in one or more of the following: electrical engineering, computer science, robotics engineering, mechanical engineering, system engineering, computer engineering, aerospace/aeronautics engineering.</li>\\n<li>Deep intellectual curiosity about emerging technologies.</li>\\n<li>Willingness to do whatever it takes to meet client needs in a fast-moving, rapidly growing, start-up environment.</li>\\n<li>Entrepreneurial, enthusiastic, collegial, and collaborative approach to work.</li>\\n<li>High degree of organization and attention to detail; ability to juggle multiple tasks.</li>\\n<li>Ability to write clearly and incisively about business and technical topics.</li>\\n<li>Superior listening and critical thinking skills, and ability to speak articulately and think on your feet; a good sense of humor is a major plus.</li>\\n<li>Strong analytical skill, both qualitative and quantitative.</li>\\n<li>A strong record of academic achievement. Bachelor\\'s degree in electrical engineering, computer science, robotics engineering, mechanical engineering, system engineering, computer engineering, or aerospace/aeronautics engineering required; Master\\'s degree or Ph.D. is preferred.</li>\\n</ul><p>This position is open to all of our office locations: Boston, New York City, Amsterdam, Singapore and Tokyo</p>\\n<p>We are seeking candidates immediately available for full-time work.</p></div></span>'"
      ]
     },
     "execution_count": 11,
     "metadata": {},
     "output_type": "execute_result"
    }
   ],
   "source": [
    "#FILL IN - Inspecting the dataframe programmatically\n",
    "bosjobs_df['description'][0]"
   ]
  },
  {
   "cell_type": "markdown",
   "metadata": {},
   "source": [
    "Issue and justification: *The issue with this data set is Untidy data structure. The description column is still shown in HTML format. It needs to be in a string format instead.*"
   ]
  },
  {
   "cell_type": "markdown",
   "metadata": {
    "id": "D6gmLnBttpCh"
   },
   "source": [
    "## 3. Clean data\n",
    "Clean the data to solve the 4 issues corresponding to data quality and tidiness found in the assessing step. **Make sure you include justifications for your cleaning decisions.**\n",
    "\n",
    "After the cleaning for each issue, please use **either** the visually or programatical method to validate the cleaning was succesful.\n",
    "\n",
    "At this stage, you are also expected to remove variables that are unnecessary for your analysis and combine your datasets. Depending on your datasets, you may choose to perform variable combination and elimination before or after the cleaning stage. Your dataset must have **at least** 4 variables after combining the data."
   ]
  },
  {
   "cell_type": "code",
   "execution_count": 12,
   "metadata": {},
   "outputs": [],
   "source": [
    "# FILL IN - Make copies of the datasets to ensure the raw dataframes \n",
    "# are not impacted\n",
    "atl_subset = atljobs_df.copy()\n",
    "boston_subset = bosjobs_df.copy()"
   ]
  },
  {
   "cell_type": "markdown",
   "metadata": {
    "id": "FmFhN52Yyn3l"
   },
   "source": [
    "### **Quality Issue 1: Missing data**"
   ]
  },
  {
   "cell_type": "code",
   "execution_count": 13,
   "metadata": {
    "id": "9UejDWrNMW4a"
   },
   "outputs": [],
   "source": [
    "# FILL IN - Apply the cleaning strategy\n",
    "atl_subset = atl_subset.dropna()\n",
    "boston_subset = boston_subset.dropna()"
   ]
  },
  {
   "cell_type": "code",
   "execution_count": 14,
   "metadata": {
    "id": "oUBee-LPytkv"
   },
   "outputs": [
    {
     "name": "stdout",
     "output_type": "stream",
     "text": [
      "Number of null values in atl_subset:  0\n",
      "Number of null values in city_subset:  0\n"
     ]
    }
   ],
   "source": [
    "# FILL IN - Validate the cleaning was successful\n",
    "print(\"Number of null values in atl_subset: \", atl_subset.isnull().sum().sum())\n",
    "print(\"Number of null values in city_subset: \", boston_subset.isnull().sum().sum())"
   ]
  },
  {
   "cell_type": "markdown",
   "metadata": {},
   "source": [
    "Justification: *Null values were removed from both data sets because it made the data incomplete.*"
   ]
  },
  {
   "cell_type": "markdown",
   "metadata": {
    "id": "n_DAUbJrymBL"
   },
   "source": [
    "### **Quality Issue 2: Validity**"
   ]
  },
  {
   "cell_type": "code",
   "execution_count": 15,
   "metadata": {
    "id": "5Yfb-Yu5MTuE"
   },
   "outputs": [],
   "source": [
    "#FILL IN - Apply the cleaning strategy\n",
    "#https://blog.hubspot.com/website/pandas-split-string\n",
    "#https://stackoverflow.com/questions/38387529/how-to-iterate-over-pandas-series-generated-from-groupby-size\n",
    "#https://note.nkmk.me/en/python-str-num-conversion/\n",
    "#https://www.geeksforgeeks.org/python-list-comprehension/\n",
    "\n",
    "#split numreview\n",
    "atl_review = atl_subset['numreview'].str.split(pat=' ', expand=True)\n",
    "bos_review = boston_subset['numreview'].str.split(pat=' ', expand=True)\n",
    "\n",
    "#remove comma from reviews\n",
    "atl_review[0] = [int(review.replace(',','')) for review in atl_review[0]]\n",
    "bos_review[0] = [int(review.replace(',','')) for review in bos_review[0]]\n",
    "\n",
    "#set int_review to numreview column\n",
    "atl_subset['numreview'] = atl_review[0]\n",
    "boston_subset['numreview'] = bos_review[0]"
   ]
  },
  {
   "cell_type": "code",
   "execution_count": 16,
   "metadata": {
    "id": "ionB2sRaMUmY"
   },
   "outputs": [
    {
     "name": "stdout",
     "output_type": "stream",
     "text": [
      "Data types of atl_subset:  position       object\n",
      "company        object\n",
      "description    object\n",
      "numreview       int64\n",
      "location       object\n",
      "dtype: object\n",
      "Data types of boston_subset:  position       object\n",
      "company        object\n",
      "description    object\n",
      "numreview       int64\n",
      "location       object\n",
      "dtype: object\n"
     ]
    }
   ],
   "source": [
    "#FILL IN - Validate the cleaning was successful\n",
    "print(\"Data types of atl_subset: \", atl_subset.dtypes)\n",
    "print(\"Data types of boston_subset: \", boston_subset.dtypes)"
   ]
  },
  {
   "cell_type": "markdown",
   "metadata": {},
   "source": [
    "Justification: *The **numreview** column is meant to count the number of reviews associated with the job. Since this a column that is supposed to count numerical values, this column was converted from a string to an int column. *"
   ]
  },
  {
   "cell_type": "markdown",
   "metadata": {
    "id": "bIUrrfSNyOPR"
   },
   "source": [
    "### **Tidiness Issue 1: Columns containing multiple variables**"
   ]
  },
  {
   "cell_type": "code",
   "execution_count": 17,
   "metadata": {
    "id": "fib0zAm333bn"
   },
   "outputs": [],
   "source": [
    "#FILL IN - Apply the cleaning strategy\n",
    "#https://blog.hubspot.com/website/pandas-split-string\n",
    "\n",
    "#split location column in atl_subset into city and state\n",
    "atl_city_only = atl_subset['location'].str.rsplit(pat=\" \", expand=True)[0].str.split(pat=',', expand=True)[0]\n",
    "atl_state_only = atl_subset['location'].str.rsplit(pat=\" \", expand=True)[1]\n",
    "\n",
    "#split location column in boston_subset into city and state\n",
    "bos_city_only = boston_subset['location'].str.rsplit(pat=\" \", expand=True)[0].str.split(pat=',', expand=True)[0]\n",
    "bos_state_only = boston_subset['location'].str.rsplit(pat=\" \", expand=True)[1]\n",
    "\n",
    "#replace location column and create new column state\n",
    "atl_subset['location'] = atl_city_only\n",
    "atl_subset['state'] = atl_state_only\n",
    "\n",
    "boston_subset['location'] = bos_city_only\n",
    "boston_subset['state'] = bos_state_only"
   ]
  },
  {
   "cell_type": "code",
   "execution_count": 18,
   "metadata": {},
   "outputs": [
    {
     "data": {
      "text/html": [
       "<div>\n",
       "<style scoped>\n",
       "    .dataframe tbody tr th:only-of-type {\n",
       "        vertical-align: middle;\n",
       "    }\n",
       "\n",
       "    .dataframe tbody tr th {\n",
       "        vertical-align: top;\n",
       "    }\n",
       "\n",
       "    .dataframe thead th {\n",
       "        text-align: right;\n",
       "    }\n",
       "</style>\n",
       "<table border=\"1\" class=\"dataframe\">\n",
       "  <thead>\n",
       "    <tr style=\"text-align: right;\">\n",
       "      <th></th>\n",
       "      <th>position</th>\n",
       "      <th>company</th>\n",
       "      <th>description</th>\n",
       "      <th>numreview</th>\n",
       "      <th>location</th>\n",
       "      <th>state</th>\n",
       "    </tr>\n",
       "  </thead>\n",
       "  <tbody>\n",
       "    <tr>\n",
       "      <th>3</th>\n",
       "      <td>Data Analyst</td>\n",
       "      <td>Operation HOPE</td>\n",
       "      <td>&lt;span id=\"job_summary\" class=\"summary\"&gt;&lt;p&gt;&lt;b&gt;D...</td>\n",
       "      <td>44</td>\n",
       "      <td>Atlanta</td>\n",
       "      <td>GA</td>\n",
       "    </tr>\n",
       "    <tr>\n",
       "      <th>4</th>\n",
       "      <td>Assistant Professor -TT - Signal Processing &amp; ...</td>\n",
       "      <td>Emory University</td>\n",
       "      <td>&lt;span id=\"job_summary\" class=\"summary\"&gt;&lt;div&gt;&lt;h...</td>\n",
       "      <td>550</td>\n",
       "      <td>Atlanta</td>\n",
       "      <td>GA</td>\n",
       "    </tr>\n",
       "    <tr>\n",
       "      <th>5</th>\n",
       "      <td>Manager of Data Engineering</td>\n",
       "      <td>McKinsey &amp; Company</td>\n",
       "      <td>&lt;span id=\"job_summary\" class=\"summary\"&gt;&lt;div&gt;&lt;d...</td>\n",
       "      <td>385</td>\n",
       "      <td>Atlanta</td>\n",
       "      <td>GA</td>\n",
       "    </tr>\n",
       "    <tr>\n",
       "      <th>6</th>\n",
       "      <td>Product Specialist - Periscope, New Ventures</td>\n",
       "      <td>McKinsey &amp; Company</td>\n",
       "      <td>&lt;span id=\"job_summary\" class=\"summary\"&gt;&lt;div&gt;&lt;d...</td>\n",
       "      <td>385</td>\n",
       "      <td>Atlanta</td>\n",
       "      <td>GA</td>\n",
       "    </tr>\n",
       "    <tr>\n",
       "      <th>7</th>\n",
       "      <td>Junior to Mid-level Engineer, Geologist or Env...</td>\n",
       "      <td>Wood</td>\n",
       "      <td>&lt;span id=\"job_summary\" class=\"summary\"&gt;&lt;div&gt;&lt;h...</td>\n",
       "      <td>899</td>\n",
       "      <td>Atlanta</td>\n",
       "      <td>GA</td>\n",
       "    </tr>\n",
       "  </tbody>\n",
       "</table>\n",
       "</div>"
      ],
      "text/plain": [
       "                                            position             company  \\\n",
       "3                                       Data Analyst      Operation HOPE   \n",
       "4  Assistant Professor -TT - Signal Processing & ...    Emory University   \n",
       "5                        Manager of Data Engineering  McKinsey & Company   \n",
       "6       Product Specialist - Periscope, New Ventures  McKinsey & Company   \n",
       "7  Junior to Mid-level Engineer, Geologist or Env...                Wood   \n",
       "\n",
       "                                         description  numreview location state  \n",
       "3  <span id=\"job_summary\" class=\"summary\"><p><b>D...         44  Atlanta    GA  \n",
       "4  <span id=\"job_summary\" class=\"summary\"><div><h...        550  Atlanta    GA  \n",
       "5  <span id=\"job_summary\" class=\"summary\"><div><d...        385  Atlanta    GA  \n",
       "6  <span id=\"job_summary\" class=\"summary\"><div><d...        385  Atlanta    GA  \n",
       "7  <span id=\"job_summary\" class=\"summary\"><div><h...        899  Atlanta    GA  "
      ]
     },
     "execution_count": 18,
     "metadata": {},
     "output_type": "execute_result"
    }
   ],
   "source": [
    "#FILL IN - Validate the cleaning was successful\n",
    "atl_subset.head()"
   ]
  },
  {
   "cell_type": "code",
   "execution_count": 19,
   "metadata": {},
   "outputs": [
    {
     "data": {
      "text/html": [
       "<div>\n",
       "<style scoped>\n",
       "    .dataframe tbody tr th:only-of-type {\n",
       "        vertical-align: middle;\n",
       "    }\n",
       "\n",
       "    .dataframe tbody tr th {\n",
       "        vertical-align: top;\n",
       "    }\n",
       "\n",
       "    .dataframe thead th {\n",
       "        text-align: right;\n",
       "    }\n",
       "</style>\n",
       "<table border=\"1\" class=\"dataframe\">\n",
       "  <thead>\n",
       "    <tr style=\"text-align: right;\">\n",
       "      <th></th>\n",
       "      <th>position</th>\n",
       "      <th>company</th>\n",
       "      <th>description</th>\n",
       "      <th>numreview</th>\n",
       "      <th>location</th>\n",
       "      <th>state</th>\n",
       "    </tr>\n",
       "  </thead>\n",
       "  <tbody>\n",
       "    <tr>\n",
       "      <th>2</th>\n",
       "      <td>Marketing Information Analytics Coordinator</td>\n",
       "      <td>VHB</td>\n",
       "      <td>&lt;span id=\"job_summary\" class=\"summary\"&gt;&lt;div&gt;&lt;p...</td>\n",
       "      <td>22</td>\n",
       "      <td>Boston</td>\n",
       "      <td>MA</td>\n",
       "    </tr>\n",
       "    <tr>\n",
       "      <th>3</th>\n",
       "      <td>ERP Implementation Specialist</td>\n",
       "      <td>Lovepop</td>\n",
       "      <td>&lt;span id=\"job_summary\" class=\"summary\"&gt;&lt;div&gt;&lt;d...</td>\n",
       "      <td>2</td>\n",
       "      <td>Boston</td>\n",
       "      <td>MA</td>\n",
       "    </tr>\n",
       "    <tr>\n",
       "      <th>5</th>\n",
       "      <td>Associate Research Analyst</td>\n",
       "      <td>Harvard Pilgrim Health Care</td>\n",
       "      <td>&lt;span id=\"job_summary\" class=\"summary\"&gt;&lt;div&gt;&lt;d...</td>\n",
       "      <td>61</td>\n",
       "      <td>Boston</td>\n",
       "      <td>MA</td>\n",
       "    </tr>\n",
       "    <tr>\n",
       "      <th>6</th>\n",
       "      <td>Senior Scientist/Data Analytics/Applied PRO</td>\n",
       "      <td>Pharmerit International</td>\n",
       "      <td>&lt;span id=\"job_summary\" class=\"summary\"&gt;&lt;div&gt;&lt;p...</td>\n",
       "      <td>5</td>\n",
       "      <td>Boston</td>\n",
       "      <td>MA</td>\n",
       "    </tr>\n",
       "    <tr>\n",
       "      <th>9</th>\n",
       "      <td>Energy Efficiency Specialist, Cambridge, MA</td>\n",
       "      <td>ICF</td>\n",
       "      <td>&lt;span id=\"job_summary\" class=\"summary\"&gt;&lt;div&gt;&lt;p...</td>\n",
       "      <td>392</td>\n",
       "      <td>Boston</td>\n",
       "      <td>MA</td>\n",
       "    </tr>\n",
       "  </tbody>\n",
       "</table>\n",
       "</div>"
      ],
      "text/plain": [
       "                                      position                      company  \\\n",
       "2  Marketing Information Analytics Coordinator                          VHB   \n",
       "3                ERP Implementation Specialist                      Lovepop   \n",
       "5                   Associate Research Analyst  Harvard Pilgrim Health Care   \n",
       "6  Senior Scientist/Data Analytics/Applied PRO      Pharmerit International   \n",
       "9  Energy Efficiency Specialist, Cambridge, MA                          ICF   \n",
       "\n",
       "                                         description  numreview location state  \n",
       "2  <span id=\"job_summary\" class=\"summary\"><div><p...         22   Boston    MA  \n",
       "3  <span id=\"job_summary\" class=\"summary\"><div><d...          2   Boston    MA  \n",
       "5  <span id=\"job_summary\" class=\"summary\"><div><d...         61   Boston    MA  \n",
       "6  <span id=\"job_summary\" class=\"summary\"><div><p...          5   Boston    MA  \n",
       "9  <span id=\"job_summary\" class=\"summary\"><div><p...        392   Boston    MA  "
      ]
     },
     "execution_count": 19,
     "metadata": {},
     "output_type": "execute_result"
    }
   ],
   "source": [
    "#FILL IN - Validate the cleaning was successful\n",
    "boston_subset.head()"
   ]
  },
  {
   "cell_type": "markdown",
   "metadata": {},
   "source": [
    "Justification: *There were multiple values in the location column: city, state, and zip code. Since there main differentiation between the two datasets used is the city and state, each of these two elements needed their own separate column to provide clarity.*"
   ]
  },
  {
   "cell_type": "markdown",
   "metadata": {
    "id": "o51Bt8kwyTzk"
   },
   "source": [
    "### **Tidiness Issue 2: Untidy data structure**"
   ]
  },
  {
   "cell_type": "code",
   "execution_count": 26,
   "metadata": {
    "id": "7zW8O5yx4Y9O"
   },
   "outputs": [],
   "source": [
    "#FILL IN - Apply the cleaning strategy\n",
    "#https://bobbyhadz.com/blog/python-remove-html-tags-from-string#:~:text=Use%20the%20re.,replacing%20them%20with%20empty%20strings.\n",
    "import re\n",
    "\n",
    "#set variable for apttern to detect\n",
    "pattern = re.compile('<.*?>')\n",
    "\n",
    "#create variables with cleaned descriptions\n",
    "clean_boston_desc = [re.sub(pattern, '', job) for job in boston_subset['description']]\n",
    "clean_atl_desc = [re.sub(pattern, '', job) for job in atl_subset['description']]\n",
    "\n",
    "#set clean variables to subsets\n",
    "boston_subset['description'] = clean_boston_desc\n",
    "atl_subset['description'] = clean_atl_desc"
   ]
  },
  {
   "cell_type": "code",
   "execution_count": 27,
   "metadata": {},
   "outputs": [
    {
     "data": {
      "text/plain": [
       "2      Marketing Information &amp; Analytics Coordina...\n",
       "3      We are looking for a hungry ERP Implementation...\n",
       "5      Are you interested in becoming part of a dynam...\n",
       "6      Pharmerit International is a leading health ca...\n",
       "9      Working at ICF\\n\\n\\nWorking at ICF means apply...\n",
       "                             ...                        \n",
       "618    Summary\\n\\nNatixis Investment Managers is look...\n",
       "619    Overview\\nAnalysis Group is one of the largest...\n",
       "620    Data Science - Machine Learning - Statistics -...\n",
       "627    Job Description\\n\\nThe Opportunity\\nPluralsigh...\n",
       "628    Facebook's mission is to give people the power...\n",
       "Name: description, Length: 448, dtype: object"
      ]
     },
     "execution_count": 27,
     "metadata": {},
     "output_type": "execute_result"
    }
   ],
   "source": [
    "#FILL IN - Validate the cleaning was successful\n",
    "boston_subset['description']"
   ]
  },
  {
   "cell_type": "code",
   "execution_count": 28,
   "metadata": {},
   "outputs": [
    {
     "data": {
      "text/plain": [
       "3      DEPARTMENT: Program OperationsPOSITION LOCATIO...\n",
       "4      DESCRIPTION\\nThe Emory University Department o...\n",
       "5      Qualifications\\nBachelor’s degree in Computer ...\n",
       "6      Qualifications\\nBachelor’s degree\\n5-7 years o...\n",
       "7      Overview / Responsibilities\\nWood Environment ...\n",
       "                             ...                        \n",
       "263    Georgia Tech Research Institutes's (GTRI) Trus...\n",
       "264    DESCRIPTION\\nThe Georgia Clinical and Translat...\n",
       "265    Accelerate Your Career\\nDrive global technolog...\n",
       "266    Job ID: R-08728\\n\\nPosition Overview: Why Join...\n",
       "268    About Secureworks\\nSecureworks (SCWX-NASDAQ) i...\n",
       "Name: description, Length: 227, dtype: object"
      ]
     },
     "execution_count": 28,
     "metadata": {},
     "output_type": "execute_result"
    }
   ],
   "source": [
    "#FILL IN - Validate the cleaning was successful\n",
    "atl_subset['description']"
   ]
  },
  {
   "cell_type": "markdown",
   "metadata": {},
   "source": [
    "Justification: *The description column should be have its structure reformatted. Currently, the words in the description is bookended by HTML tags. The tags need to be removed in order to be more tidy.*"
   ]
  },
  {
   "cell_type": "code",
   "execution_count": 59,
   "metadata": {},
   "outputs": [],
   "source": [
    "#merge data sets\n",
    "both_cities_jobs_df = pd.concat([atl_subset, boston_subset], ignore_index=True)\n",
    "\n",
    "#rename column\n",
    "both_cities_jobs_df = both_cities_jobs_df.rename(columns={\"location\":\"city\"})"
   ]
  },
  {
   "cell_type": "markdown",
   "metadata": {
    "id": "F42urHuzttjF"
   },
   "source": [
    "## 4. Update your data store\n",
    "Update your local database/data store with the cleaned data, following best practices for storing your cleaned data:\n",
    "\n",
    "- Must maintain different instances / versions of data (raw and cleaned data)\n",
    "- Must name the dataset files informatively\n",
    "- Ensure both the raw and cleaned data is saved to your database/data store"
   ]
  },
  {
   "cell_type": "code",
   "execution_count": 60,
   "metadata": {
    "id": "V3uay7EJUV_L"
   },
   "outputs": [],
   "source": [
    "#FILL IN - saving data\n",
    "import os \n",
    "folder_name = 'clean_data'\n",
    "if not os.path.exists(folder_name):\n",
    "    os.makedirs(folder_name)\n",
    "    \n",
    "both_cities_jobs_df.to_csv('clean_data/both_cities_jobs.csv', index=False, encoding='utf-8')"
   ]
  },
  {
   "cell_type": "markdown",
   "metadata": {
    "id": "cGy_yddGtzhM"
   },
   "source": [
    "## 5. Answer the research question\n",
    "\n",
    "### **5.1:** Define and answer the research question \n",
    "Going back to the problem statement in step 1, use the cleaned data to answer the question you raised. Produce **at least** two visualizations using the cleaned data and explain how they help you answer the question."
   ]
  },
  {
   "cell_type": "markdown",
   "metadata": {
    "id": "gjedE4s4ZkEd"
   },
   "source": [
    "*Research question:* The question that I wanted to answer was about data science and data science-related jobs in Boston and Atlanta scraped from Indeed in 2018."
   ]
  },
  {
   "cell_type": "code",
   "execution_count": 61,
   "metadata": {
    "id": "Lkw3rW9kZmOm"
   },
   "outputs": [
    {
     "data": {
      "text/plain": [
       "<AxesSubplot: title={'center': 'Frequency of Review Ratings'}, ylabel='Frequency'>"
      ]
     },
     "execution_count": 61,
     "metadata": {},
     "output_type": "execute_result"
    },
    {
     "data": {
      "image/png": "[encoded data removed]",
      "text/plain": [
       "<Figure size 640x480 with 1 Axes>"
      ]
     },
     "metadata": {},
     "output_type": "display_data"
    }
   ],
   "source": [
    "#Visual 1 - FILL IN\n",
    "both_cities_jobs_df['numreview'].plot(kind=\"hist\",\n",
    "                                      color='#20E85D',\n",
    "                                      title=\"Frequency of Review Ratings\")"
   ]
  },
  {
   "cell_type": "markdown",
   "metadata": {},
   "source": [
    "*Answer to research question: This plot answered the question of what was the most frequent number of reviews associated with a job position.* "
   ]
  },
  {
   "cell_type": "code",
   "execution_count": 82,
   "metadata": {
    "id": "6fdK_8ZGZm9R"
   },
   "outputs": [
    {
     "data": {
      "text/plain": [
       "<AxesSubplot: title={'center': 'Average Rating Associated for Jobs by City'}, xlabel='city'>"
      ]
     },
     "execution_count": 82,
     "metadata": {},
     "output_type": "execute_result"
    },
    {
     "data": {
      "image/png": "[encoded data removed]",
      "text/plain": [
       "<Figure size 640x480 with 1 Axes>"
      ]
     },
     "metadata": {},
     "output_type": "display_data"
    }
   ],
   "source": [
    "#Visual 2 - FILL IN\n",
    "#https://realpython.com/pandas-plot-python/\n",
    "avg_review = both_cities_jobs_df.groupby('city')['numreview'].mean().sort_values(ascending=False).head()\n",
    "avg_review.plot(kind='bar',\n",
    "                 color='#B634E0',\n",
    "                 title='Average Rating Associated for Jobs by City')"
   ]
  },
  {
   "cell_type": "markdown",
   "metadata": {
    "id": "K5RgvMGUZoHn"
   },
   "source": [
    "*Answer to research question: This plot answered the question of which city had the highest average of review ratings associated with jobs. The answer seems to be Atlanta.* "
   ]
  },
  {
   "cell_type": "markdown",
   "metadata": {
    "id": "0ezWXXZVj-TP"
   },
   "source": [
    "### **5.2:** Reflection\n",
    "In 2-4 sentences, if you had more time to complete the project, what actions would you take? For example, which data quality and structural issues would you look into further, and what research questions would you further explore?"
   ]
  },
  {
   "cell_type": "markdown",
   "metadata": {
    "id": "XB3RBDG5kFe1"
   },
   "source": [
    "*Answer:* If I had more time to complete the project, there is one additional action I would take. That action would be to observe the most common job titles for each city."
   ]
  }
 ],
 "metadata": {
  "colab": {
   "provenance": []
  },
  "kernelspec": {
   "display_name": "Python 3 (ipykernel)",
   "language": "python",
   "name": "python3"
  },
  "language_info": {
   "codemirror_mode": {
    "name": "ipython",
    "version": 3
   },
   "file_extension": ".py",
   "mimetype": "text/x-python",
   "name": "python",
   "nbconvert_exporter": "python",
   "pygments_lexer": "ipython3",
   "version": "3.10.10"
  }
 },
 "nbformat": 4,
 "nbformat_minor": 1
}
